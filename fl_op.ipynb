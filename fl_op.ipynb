{
 "cells": [
  {
   "cell_type": "code",
   "execution_count": 12,
   "metadata": {},
   "outputs": [
    {
     "name": "stdout",
     "output_type": "stream",
     "text": [
      "Collecting package metadata (current_repodata.json): ...working... done\n",
      "Solving environment: ...working... done\n",
      "\n",
      "# All requested packages already installed.\n",
      "\n",
      "\n",
      "Note: you may need to restart the kernel to use updated packages.\n"
     ]
    }
   ],
   "source": [
    "# install gym\n",
    "# %conda install -c conda-forge gym"
   ]
  },
  {
   "cell_type": "markdown",
   "metadata": {},
   "source": [
    "This is a tutorial for frozen lake with the help of open gym reference [here](https://reinforcement-learning4.fun/2019/06/16/gym-tutorial-frozen-lake/)"
   ]
  },
  {
   "cell_type": "code",
   "execution_count": 27,
   "metadata": {},
   "outputs": [
    {
     "name": "stdout",
     "output_type": "stream",
     "text": [
      "current state 0\n",
      "Action space:  Discrete(4)\n",
      "Observation space:  Discrete(16)\n"
     ]
    }
   ],
   "source": [
    "import gym\n",
    "\n",
    "env = gym.make(\"FrozenLake-v1\")\n",
    "state = env.reset()\n",
    "print('current state', state)\n",
    "print(\"Action space: \", env.action_space)\n",
    "print(\"Observation space: \", env.observation_space)"
   ]
  },
  {
   "cell_type": "markdown",
   "metadata": {},
   "source": []
  },
  {
   "cell_type": "code",
   "execution_count": 16,
   "metadata": {},
   "outputs": [
    {
     "name": "stdout",
     "output_type": "stream",
     "text": [
      "\n",
      "\u001b[41mS\u001b[0mF\n",
      "HG\n",
      "2\n",
      "act: <class 'int'>, i:<class 'int'>, new state:1, reward:0.0, done:False, info:{'prob': 1.0}\n",
      "3\n",
      "act: <class 'int'>, i:<class 'int'>, new state:1, reward:0.0, done:False, info:{'prob': 1.0}\n",
      "0\n",
      "act: <class 'int'>, i:<class 'int'>, new state:0, reward:0.0, done:False, info:{'prob': 1.0}\n",
      "3\n",
      "act: <class 'int'>, i:<class 'int'>, new state:0, reward:0.0, done:False, info:{'prob': 1.0}\n",
      "0\n",
      "act: <class 'int'>, i:<class 'int'>, new state:0, reward:0.0, done:False, info:{'prob': 1.0}\n",
      "3\n",
      "act: <class 'int'>, i:<class 'int'>, new state:0, reward:0.0, done:False, info:{'prob': 1.0}\n",
      "0\n",
      "act: <class 'int'>, i:<class 'int'>, new state:0, reward:0.0, done:False, info:{'prob': 1.0}\n",
      "0\n",
      "act: <class 'int'>, i:<class 'int'>, new state:0, reward:0.0, done:False, info:{'prob': 1.0}\n",
      "2\n",
      "act: <class 'int'>, i:<class 'int'>, new state:1, reward:0.0, done:False, info:{'prob': 1.0}\n",
      "1\n",
      "act: <class 'int'>, i:<class 'int'>, new state:3, reward:1.0, done:True, info:{'prob': 1.0}\n"
     ]
    }
   ],
   "source": [
    "actions = {\n",
    "    'Left':0,\n",
    "    'Down':1,\n",
    "    'Right':2,\n",
    "    'Up':3\n",
    "}\n",
    "\n",
    "custom_env = [\n",
    "    'SF',\n",
    "    'HG']\n",
    "\n",
    "MAX_ITERATIONS = 10\n",
    "\n",
    "env = gym.make('FrozenLake-v1', desc=custom_env, is_slippery = False)\n",
    "\n",
    "# env = gym.make('FrozenLake-v1', map_name = '4x4') # \"4x4\", \"8x8\"\n",
    "\n",
    "env.reset()\n",
    "env.render()\n",
    "\n",
    "for i in range(MAX_ITERATIONS):\n",
    "    act = env.action_space.sample() # act type int\n",
    "    new_state, reward, done, info = env.step(action=act)\n",
    "    print(f'act: {act}, i:{type(i)}, new state:{new_state}, reward:{reward}, done:{done}, info:{info}')\n",
    "\n",
    "    if done:\n",
    "        break"
   ]
  }
 ],
 "metadata": {
  "interpreter": {
   "hash": "8d86c190dfcadcdaa67edec4a1ea82702241987b5b1f320c920d3d4ca36fee5b"
  },
  "kernelspec": {
   "display_name": "Python 3.8.5 64-bit ('base': conda)",
   "language": "python",
   "name": "python3"
  },
  "language_info": {
   "codemirror_mode": {
    "name": "ipython",
    "version": 3
   },
   "file_extension": ".py",
   "mimetype": "text/x-python",
   "name": "python",
   "nbconvert_exporter": "python",
   "pygments_lexer": "ipython3",
   "version": "3.8.5"
  },
  "orig_nbformat": 4
 },
 "nbformat": 4,
 "nbformat_minor": 2
}
