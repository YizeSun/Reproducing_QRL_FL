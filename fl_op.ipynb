{
 "cells": [
  {
   "cell_type": "code",
   "execution_count": 1,
   "metadata": {},
   "outputs": [
    {
     "name": "stdout",
     "output_type": "stream",
     "text": [
      "Collecting package metadata (current_repodata.json): ...working... done\n",
      "Solving environment: ...working... done\n",
      "\n",
      "## Package Plan ##\n",
      "\n",
      "  environment location: E:\\anaconda\n",
      "\n",
      "  added / updated specs:\n",
      "    - gym\n",
      "\n",
      "\n",
      "The following packages will be downloaded:\n",
      "\n",
      "    package                    |            build\n",
      "    ---------------------------|-----------------\n",
      "    astroid-2.9.3              |   py38haa244fe_0         353 KB  conda-forge\n",
      "    ca-certificates-2021.10.8  |       h5b45459_0         176 KB  conda-forge\n",
      "    certifi-2021.10.8          |   py38haa244fe_1         145 KB  conda-forge\n",
      "    conda-4.11.0               |   py38haa244fe_0        16.9 MB  conda-forge\n",
      "    matplotlib-3.5.1           |   py38haa244fe_0           7 KB  conda-forge\n",
      "    matplotlib-base-3.5.1      |   py38h1f000d6_0         7.3 MB  conda-forge\n",
      "    platformdirs-2.5.1         |     pyhd8ed1ab_0          15 KB  conda-forge\n",
      "    pylint-2.12.2              |     pyhd8ed1ab_0         264 KB  conda-forge\n",
      "    typing-extensions-3.10.0.2 |       hd3eb1b0_0          12 KB\n",
      "    ------------------------------------------------------------\n",
      "                                           Total:        25.2 MB\n",
      "\n",
      "The following NEW packages will be INSTALLED:\n",
      "\n",
      "  platformdirs       conda-forge/noarch::platformdirs-2.5.1-pyhd8ed1ab_0\n",
      "  typing-extensions  pkgs/main/noarch::typing-extensions-3.10.0.2-hd3eb1b0_0\n",
      "\n",
      "Note: you may need to restart the kernel to use updated packages.\n",
      "The following packages will be UPDATED:\n",
      "\n"
     ]
    },
    {
     "name": "stderr",
     "output_type": "stream",
     "text": [
      "\n",
      "The environment is inconsistent, please check the package plan carefully\n",
      "The following packages are causing the inconsistency:\n",
      "\n",
      "  - defaults/win-64::anaconda==custom=py38_1\n",
      "  - defaults/win-64::astroid==2.4.2=py38_0\n",
      "  - defaults/win-64::astropy==4.3.1=py38hc7d831d_0\n",
      "  - defaults/win-64::matplotlib==3.3.2=0\n",
      "  - defaults/win-64::pylint==2.6.0=py38_0\n",
      "  - defaults/noarch::python-language-server==0.35.1=py_0\n",
      "  - defaults/noarch::seaborn==0.11.0=py_0\n",
      "  - defaults/win-64::spyder==4.1.5=py38_0\n",
      "  - defaults/win-64::_anaconda_depends==2020.07=py38_0\n",
      "\n",
      "\n",
      "==> WARNING: A newer version of conda exists. <==\n",
      "  current version: 4.10.3\n",
      "  latest version: 4.11.0\n",
      "\n",
      "Please update conda by running\n",
      "\n",
      "    $ conda update -n base -c defaults conda\n",
      "\n",
      "\n"
     ]
    },
    {
     "name": "stdout",
     "output_type": "stream",
     "text": [
      "\n",
      "  astroid                   pkgs/main::astroid-2.4.2-py38_0 --> conda-forge::astroid-2.9.3-py38haa244fe_0\n",
      "  ca-certificates    pkgs/main::ca-certificates-2021.7.5-h~ --> conda-forge::ca-certificates-2021.10.8-h5b45459_0\n",
      "  certifi            pkgs/main::certifi-2021.5.30-py38haa9~ --> conda-forge::certifi-2021.10.8-py38haa244fe_1\n",
      "  conda              pkgs/main::conda-4.10.3-py38haa95532_0 --> conda-forge::conda-4.11.0-py38haa244fe_0\n",
      "  matplotlib                  pkgs/main::matplotlib-3.3.2-0 --> conda-forge::matplotlib-3.5.1-py38haa244fe_0\n",
      "  matplotlib-base    pkgs/main::matplotlib-base-3.4.2-py38~ --> conda-forge::matplotlib-base-3.5.1-py38h1f000d6_0\n",
      "  pylint              pkgs/main/win-64::pylint-2.6.0-py38_0 --> conda-forge/noarch::pylint-2.12.2-pyhd8ed1ab_0\n",
      "\n",
      "The following packages will be SUPERSEDED by a higher-priority channel:\n",
      "\n",
      "  openssl              pkgs/main::openssl-1.1.1l-h2bbff1b_0 --> conda-forge::openssl-1.1.1l-h8ffe710_0\n",
      "\n",
      "\n",
      "\n",
      "Downloading and Extracting Packages\n",
      "\n",
      "astroid-2.9.3        | 353 KB    |            |   0% \n",
      "astroid-2.9.3        | 353 KB    | 4          |   5% \n",
      "astroid-2.9.3        | 353 KB    | ########## | 100% \n",
      "astroid-2.9.3        | 353 KB    | ########## | 100% \n",
      "\n",
      "ca-certificates-2021 | 176 KB    |            |   0% \n",
      "ca-certificates-2021 | 176 KB    | ########## | 100% \n",
      "ca-certificates-2021 | 176 KB    | ########## | 100% \n",
      "\n",
      "typing-extensions-3. | 12 KB     |            |   0% \n",
      "typing-extensions-3. | 12 KB     | ########## | 100% \n",
      "typing-extensions-3. | 12 KB     | ########## | 100% \n",
      "\n",
      "matplotlib-base-3.5. | 7.3 MB    |            |   0% \n",
      "matplotlib-base-3.5. | 7.3 MB    | 5          |   5% \n",
      "matplotlib-base-3.5. | 7.3 MB    | ###5       |  35% \n",
      "matplotlib-base-3.5. | 7.3 MB    | ######9    |  69% \n",
      "matplotlib-base-3.5. | 7.3 MB    | ########## | 100% \n",
      "matplotlib-base-3.5. | 7.3 MB    | ########## | 100% \n",
      "\n",
      "matplotlib-3.5.1     | 7 KB      |            |   0% \n",
      "matplotlib-3.5.1     | 7 KB      | ########## | 100% \n",
      "matplotlib-3.5.1     | 7 KB      | ########## | 100% \n",
      "\n",
      "certifi-2021.10.8    | 145 KB    |            |   0% \n",
      "certifi-2021.10.8    | 145 KB    | #1         |  11% \n",
      "certifi-2021.10.8    | 145 KB    | ########## | 100% \n",
      "certifi-2021.10.8    | 145 KB    | ########## | 100% \n",
      "\n",
      "conda-4.11.0         | 16.9 MB   |            |   0% \n",
      "conda-4.11.0         | 16.9 MB   | 6          |   7% \n",
      "conda-4.11.0         | 16.9 MB   | ##3        |  23% \n",
      "conda-4.11.0         | 16.9 MB   | ###9       |  39% \n",
      "conda-4.11.0         | 16.9 MB   | #####3     |  53% \n",
      "conda-4.11.0         | 16.9 MB   | ######3    |  64% \n",
      "conda-4.11.0         | 16.9 MB   | #######6   |  77% \n",
      "conda-4.11.0         | 16.9 MB   | ########8  |  88% \n",
      "conda-4.11.0         | 16.9 MB   | #########9 | 100% \n",
      "conda-4.11.0         | 16.9 MB   | ########## | 100% \n",
      "\n",
      "platformdirs-2.5.1   | 15 KB     |            |   0% \n",
      "platformdirs-2.5.1   | 15 KB     | ########## | 100% \n",
      "\n",
      "pylint-2.12.2        | 264 KB    |            |   0% \n",
      "pylint-2.12.2        | 264 KB    | ########## | 100% \n",
      "pylint-2.12.2        | 264 KB    | ########## | 100% \n",
      "Preparing transaction: ...working... done\n",
      "Verifying transaction: ...working... done\n",
      "Executing transaction: ...working... done\n"
     ]
    }
   ],
   "source": [
    "# install gym\n",
    "%conda install -c conda-forge gym"
   ]
  },
  {
   "cell_type": "markdown",
   "metadata": {},
   "source": [
    "This is a tutorial for frozen lake with the help of open gym reference [here](https://reinforcement-learning4.fun/2019/06/16/gym-tutorial-frozen-lake/)"
   ]
  },
  {
   "cell_type": "code",
   "execution_count": 2,
   "metadata": {},
   "outputs": [
    {
     "name": "stdout",
     "output_type": "stream",
     "text": [
      "\n",
      "\u001b[41mS\u001b[0mFFF\n",
      "FHFH\n",
      "FFFH\n",
      "HFFG\n",
      "Action space:  Discrete(4)\n",
      "Observation space:  Discrete(16)\n"
     ]
    }
   ],
   "source": [
    "import gym\n",
    "\n",
    "env = gym.make(\"FrozenLake-v1\")\n",
    "env.reset()\n",
    "env.render()\n",
    "print(\"Action space: \", env.action_space)\n",
    "print(\"Observation space: \", env.observation_space)"
   ]
  },
  {
   "cell_type": "code",
   "execution_count": 6,
   "metadata": {},
   "outputs": [
    {
     "name": "stdout",
     "output_type": "stream",
     "text": [
      "\n",
      "\u001b[41mS\u001b[0mFFF\n",
      "FHFH\n",
      "FFFH\n",
      "HFFG\n"
     ]
    }
   ],
   "source": [
    "actions = {\n",
    "    'Left':0,\n",
    "    'Down':1,\n",
    "    'Right':2,\n",
    "    'Up':3\n",
    "}\n",
    "\n",
    "custom_env = [\n",
    "    'SF',\n",
    "    'HG']\n",
    "\n",
    "MAX_ITERATIONS = 10\n",
    "\n",
    "env = gym.make('FrozenLake-v1', desc=custom_env, is_slippery = False)\n",
    "\n",
    "# env = gym.make('FrozenLake-v1', map_name = '4x4') # \"4x4\", \"8x8\"\n",
    "\n",
    "env.reset()\n",
    "env.render()\n",
    "\n",
    "for i in MAX_ITERATIONS:\n",
    "    new_state, reward, done, info = env.step(action=env.action_space.sample())\n",
    "\n",
    "    if done:\n",
    "        break"
   ]
  }
 ],
 "metadata": {
  "interpreter": {
   "hash": "8d86c190dfcadcdaa67edec4a1ea82702241987b5b1f320c920d3d4ca36fee5b"
  },
  "kernelspec": {
   "display_name": "Python 3.8.5 64-bit ('base': conda)",
   "language": "python",
   "name": "python3"
  },
  "language_info": {
   "codemirror_mode": {
    "name": "ipython",
    "version": 3
   },
   "file_extension": ".py",
   "mimetype": "text/x-python",
   "name": "python",
   "nbconvert_exporter": "python",
   "pygments_lexer": "ipython3",
   "version": "3.8.5"
  },
  "orig_nbformat": 4
 },
 "nbformat": 4,
 "nbformat_minor": 2
}
