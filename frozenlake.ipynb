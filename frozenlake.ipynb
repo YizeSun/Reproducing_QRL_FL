{
 "cells": [
  {
   "cell_type": "code",
   "execution_count": 33,
   "metadata": {},
   "outputs": [],
   "source": [
    "from qiskit import QuantumCircuit, QuantumRegister, ClassicalRegister, assemble, Aer\n",
    "from qiskit.visualization import plot_histogram\n",
    "from math import pi\n",
    "\n",
    "def circuitMaker(n_qubits, n_cbits, encodings, parameters):\n",
    "    # create quantum circuit\n",
    "    qr = QuantumRegister(n_qubits, 'qubit')\n",
    "    cr = ClassicalRegister(n_cbits, 'cr')\n",
    "    qc = QuantumCircuit()\n",
    "    qc.add_register(qr)\n",
    "    qc.add_register(cr)\n",
    "    \n",
    "    # encoding block\n",
    "    encoder0, encoder1 = encoder(encodings)\n",
    "    # print(encodings, encoder1)\n",
    "    # qc.rx(pi, encoder0)\n",
    "    # qc.rz(pi, encoder0)\n",
    "    qc.rx(pi, encoder1)\n",
    "    qc.rz(pi, encoder1)\n",
    "    qc.barrier(qr)\n",
    "    \n",
    "    for i in range(n_qubits):\n",
    "        # entangle block\n",
    "        if i < n_qubits - 1:\n",
    "            qc.cnot(i, i+1)\n",
    "        else:\n",
    "            qc.barrier(qr)\n",
    "\n",
    "    for i in range(n_qubits):\n",
    "        # variational block\n",
    "        qc.u3(parameters[i][0], parameters[i][1], parameters[i][2], i)\n",
    "\n",
    "    # measurement\n",
    "    qc.measure(qr, cr)\n",
    "    \n",
    "    return qc\n",
    "\n",
    "def encoder(encodings):\n",
    "    return [i for i, b in enumerate(encodings) if b == '0'], [i for i, b in enumerate(encodings) if b == '1']\n"
   ]
  },
  {
   "cell_type": "code",
   "execution_count": 48,
   "metadata": {},
   "outputs": [
    {
     "name": "stdout",
     "output_type": "stream",
     "text": [
      "[243, 203, 773, 750]\n"
     ]
    },
    {
     "data": {
      "text/plain": [
       "2"
      ]
     },
     "execution_count": 48,
     "metadata": {},
     "output_type": "execute_result"
    }
   ],
   "source": [
    "import numpy as np\n",
    "circuit_size = 4\n",
    "parameters = [[1,1,1],[1,1,1],[1,1,1],[1,1,1]]\n",
    "\n",
    "def findAction(statistic):\n",
    "    distribution = [0]*circuit_size\n",
    "    for k, v in statistic.items():\n",
    "        # attention: reserved statistic\n",
    "        for i, c in enumerate(k[::-1]):\n",
    "            if c == '1':\n",
    "                distribution[i] += v\n",
    "    print(distribution)\n",
    "    return np.argmax(distribution)\n",
    "\n",
    "def getAction(state, parameters):\n",
    "    b_state = f'{state:0{circuit_size}b}'\n",
    "    qc = circuitMaker(circuit_size, circuit_size, b_state, parameters)\n",
    "    aer_sim = Aer.get_backend('aer_simulator')\n",
    "    qobj = assemble(qc, shots=1000)\n",
    "    job = aer_sim.run(qobj)\n",
    "    rlt = job.result().get_counts()\n",
    "    # print(rlt)\n",
    "    return findAction(rlt)"
   ]
  },
  {
   "cell_type": "code",
   "execution_count": null,
   "metadata": {},
   "outputs": [],
   "source": [
    "import gym\n",
    "\n",
    "MAXEPISODE = 10\n",
    "MAXSTEPS = 10\n",
    "\n",
    "env = gym.make('FrozenLake-v1', map_name = '4x4')\n",
    "env.reset()\n",
    "env.render()\n",
    "\n",
    "for i in range(MAXEPISODE):\n",
    "    for t in range(MAXSTEPS):\n",
    "        action = getAction(2, parameters)\n",
    "        new_state, reward, done, info = env.step(action=action)\n",
    "        print(f'act: {action}, i:{type(i)}, new state:{new_state}, reward:{reward}, done:{done}, info:{info}')\n",
    "\n",
    "        if done:\n",
    "            break\n"
   ]
  },
  {
   "cell_type": "code",
   "execution_count": 45,
   "metadata": {},
   "outputs": [
    {
     "name": "stdout",
     "output_type": "stream",
     "text": [
      "0100\n"
     ]
    },
    {
     "data": {
      "text/html": [
       "<pre style=\"word-wrap: normal;white-space: pre;background: #fff0;line-height: 1.1;font-family: &quot;Courier New&quot;,Courier,monospace\">         ┌───────┐┌───────┐ ░                 ░ ┌───────────┐┌─┐         \n",
       "qubit_0: ┤ Rx(π) ├┤ Rz(π) ├─░───■─────────────░─┤ U3(1,1,1) ├┤M├─────────\n",
       "         └───────┘└───────┘ ░ ┌─┴─┐           ░ ├───────────┤└╥┘┌─┐      \n",
       "qubit_1: ───────────────────░─┤ X ├──■────────░─┤ U3(1,1,1) ├─╫─┤M├──────\n",
       "         ┌───────┐┌───────┐ ░ └───┘┌─┴─┐      ░ ├───────────┤ ║ └╥┘┌─┐   \n",
       "qubit_2: ┤ Rx(π) ├┤ Rz(π) ├─░──────┤ X ├──■───░─┤ U3(1,1,1) ├─╫──╫─┤M├───\n",
       "         ├───────┤├───────┤ ░      └───┘┌─┴─┐ ░ ├───────────┤ ║  ║ └╥┘┌─┐\n",
       "qubit_3: ┤ Rx(π) ├┤ Rz(π) ├─░───────────┤ X ├─░─┤ U3(1,1,1) ├─╫──╫──╫─┤M├\n",
       "         └───────┘└───────┘ ░           └───┘ ░ └───────────┘ ║  ║  ║ └╥┘\n",
       "   cr: 4/═════════════════════════════════════════════════════╩══╩══╩══╩═\n",
       "                                                              0  1  2  3 </pre>"
      ],
      "text/plain": [
       "         ┌───────┐┌───────┐ ░                 ░ ┌───────────┐┌─┐         \n",
       "qubit_0: ┤ Rx(π) ├┤ Rz(π) ├─░───■─────────────░─┤ U3(1,1,1) ├┤M├─────────\n",
       "         └───────┘└───────┘ ░ ┌─┴─┐           ░ ├───────────┤└╥┘┌─┐      \n",
       "qubit_1: ───────────────────░─┤ X ├──■────────░─┤ U3(1,1,1) ├─╫─┤M├──────\n",
       "         ┌───────┐┌───────┐ ░ └───┘┌─┴─┐      ░ ├───────────┤ ║ └╥┘┌─┐   \n",
       "qubit_2: ┤ Rx(π) ├┤ Rz(π) ├─░──────┤ X ├──■───░─┤ U3(1,1,1) ├─╫──╫─┤M├───\n",
       "         ├───────┤├───────┤ ░      └───┘┌─┴─┐ ░ ├───────────┤ ║  ║ └╥┘┌─┐\n",
       "qubit_3: ┤ Rx(π) ├┤ Rz(π) ├─░───────────┤ X ├─░─┤ U3(1,1,1) ├─╫──╫──╫─┤M├\n",
       "         └───────┘└───────┘ ░           └───┘ ░ └───────────┘ ║  ║  ║ └╥┘\n",
       "   cr: 4/═════════════════════════════════════════════════════╩══╩══╩══╩═\n",
       "                                                              0  1  2  3 "
      ]
     },
     "execution_count": 45,
     "metadata": {},
     "output_type": "execute_result"
    }
   ],
   "source": [
    "parameters = [[1,1,1],[1,1,1],[1,1,1],[1,1,1]]\n",
    "circuit_size = 4\n",
    "b_state = '1011'\n",
    "\n",
    "qc = circuitMaker(circuit_size, circuit_size, b_state, parameters)\n",
    "qc.draw()"
   ]
  }
 ],
 "metadata": {
  "interpreter": {
   "hash": "8d86c190dfcadcdaa67edec4a1ea82702241987b5b1f320c920d3d4ca36fee5b"
  },
  "kernelspec": {
   "display_name": "Python 3.8.5 64-bit ('base': conda)",
   "language": "python",
   "name": "python3"
  },
  "language_info": {
   "codemirror_mode": {
    "name": "ipython",
    "version": 3
   },
   "file_extension": ".py",
   "mimetype": "text/x-python",
   "name": "python",
   "nbconvert_exporter": "python",
   "pygments_lexer": "ipython3",
   "version": "3.8.5"
  },
  "orig_nbformat": 4
 },
 "nbformat": 4,
 "nbformat_minor": 2
}
