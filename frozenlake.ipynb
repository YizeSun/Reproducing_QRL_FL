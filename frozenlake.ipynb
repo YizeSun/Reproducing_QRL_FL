{
 "cells": [
  {
   "cell_type": "code",
   "execution_count": 30,
   "metadata": {},
   "outputs": [],
   "source": [
    "from qiskit import QuantumCircuit, QuantumRegister, ClassicalRegister, assemble, Aer\n",
    "from qiskit.visualization import plot_histogram\n",
    "from math import pi\n",
    "\n",
    "def circuitMaker(n_qubits, n_cbits, encodings, parameters):\n",
    "    # create quantum circuit\n",
    "    qr = QuantumRegister(n_qubits, 'qubit')\n",
    "    cr = ClassicalRegister(n_cbits, 'cr')\n",
    "    qc = QuantumCircuit()\n",
    "    qc.add_register(qr)\n",
    "    qc.add_register(cr)\n",
    "    \n",
    "    # encoding block\n",
    "    encoder0, encoder1 = encoder(encodings)\n",
    "    # print(encodings, encoder1)\n",
    "    # qc.rx(pi, encoder0)\n",
    "    # qc.rz(pi, encoder0)\n",
    "    qc.rx(pi, encoder1)\n",
    "    qc.rz(pi, encoder1)\n",
    "    qc.barrier(qr)\n",
    "    \n",
    "    for i in range(n_qubits):\n",
    "        # entangle block\n",
    "        if i < n_qubits - 1:\n",
    "            qc.cnot(i, i+1)\n",
    "        else:\n",
    "            qc.barrier(qr)\n",
    "\n",
    "    for i in range(n_qubits):\n",
    "        # variational block\n",
    "        qc.u3(parameters[i][0], parameters[i][1], parameters[i][2], i)\n",
    "\n",
    "    # measurement\n",
    "    qc.measure(qr, cr)\n",
    "    \n",
    "    return qc\n",
    "\n",
    "def encoder(encodings):\n",
    "    return [i for i, b in enumerate(encodings) if b == '0'], [i for i, b in enumerate(encodings) if b == '1']\n"
   ]
  },
  {
   "cell_type": "code",
   "execution_count": 32,
   "metadata": {},
   "outputs": [
    {
     "data": {
      "text/html": [
       "<pre style=\"word-wrap: normal;white-space: pre;background: #fff0;line-height: 1.1;font-family: &quot;Courier New&quot;,Courier,monospace\">         ┌───────┐┌───────┐ ░                 ░ ┌───────────┐\n",
       "qubit_0: ┤ Rx(π) ├┤ Rz(π) ├─░───■─────────────░─┤ U3(1,1,1) ├\n",
       "         └───────┘└───────┘ ░ ┌─┴─┐           ░ ├───────────┤\n",
       "qubit_1: ───────────────────░─┤ X ├──■────────░─┤ U3(1,1,1) ├\n",
       "         ┌───────┐┌───────┐ ░ └───┘┌─┴─┐      ░ ├───────────┤\n",
       "qubit_2: ┤ Rx(π) ├┤ Rz(π) ├─░──────┤ X ├──■───░─┤ U3(1,1,1) ├\n",
       "         ├───────┤├───────┤ ░      └───┘┌─┴─┐ ░ ├───────────┤\n",
       "qubit_3: ┤ Rx(π) ├┤ Rz(π) ├─░───────────┤ X ├─░─┤ U3(1,1,1) ├\n",
       "         └───────┘└───────┘ ░           └───┘ ░ └───────────┘\n",
       "   cr: 4/════════════════════════════════════════════════════\n",
       "                                                             </pre>"
      ],
      "text/plain": [
       "         ┌───────┐┌───────┐ ░                 ░ ┌───────────┐\n",
       "qubit_0: ┤ Rx(π) ├┤ Rz(π) ├─░───■─────────────░─┤ U3(1,1,1) ├\n",
       "         └───────┘└───────┘ ░ ┌─┴─┐           ░ ├───────────┤\n",
       "qubit_1: ───────────────────░─┤ X ├──■────────░─┤ U3(1,1,1) ├\n",
       "         ┌───────┐┌───────┐ ░ └───┘┌─┴─┐      ░ ├───────────┤\n",
       "qubit_2: ┤ Rx(π) ├┤ Rz(π) ├─░──────┤ X ├──■───░─┤ U3(1,1,1) ├\n",
       "         ├───────┤├───────┤ ░      └───┘┌─┴─┐ ░ ├───────────┤\n",
       "qubit_3: ┤ Rx(π) ├┤ Rz(π) ├─░───────────┤ X ├─░─┤ U3(1,1,1) ├\n",
       "         └───────┘└───────┘ ░           └───┘ ░ └───────────┘\n",
       "   cr: 4/════════════════════════════════════════════════════\n",
       "                                                             "
      ]
     },
     "execution_count": 32,
     "metadata": {},
     "output_type": "execute_result"
    }
   ],
   "source": [
    "parameters = [[1,1,1],[1,1,1],[1,1,1],[1,1,1]]\n",
    "circuit_size = 4\n",
    "b_state = '1011'\n",
    "\n",
    "qc = circuitMaker(circuit_size, circuit_size, b_state, parameters)\n",
    "qc.draw()"
   ]
  }
 ],
 "metadata": {
  "interpreter": {
   "hash": "8d86c190dfcadcdaa67edec4a1ea82702241987b5b1f320c920d3d4ca36fee5b"
  },
  "kernelspec": {
   "display_name": "Python 3.8.5 64-bit ('base': conda)",
   "language": "python",
   "name": "python3"
  },
  "language_info": {
   "codemirror_mode": {
    "name": "ipython",
    "version": 3
   },
   "file_extension": ".py",
   "mimetype": "text/x-python",
   "name": "python",
   "nbconvert_exporter": "python",
   "pygments_lexer": "ipython3",
   "version": "3.8.5"
  },
  "orig_nbformat": 4
 },
 "nbformat": 4,
 "nbformat_minor": 2
}
