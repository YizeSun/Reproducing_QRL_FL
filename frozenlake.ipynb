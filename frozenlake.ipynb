{
 "cells": [
  {
   "cell_type": "code",
   "execution_count": 96,
   "metadata": {},
   "outputs": [
    {
     "data": {
      "text/html": [
       "<pre style=\"word-wrap: normal;white-space: pre;background: #fff0;line-height: 1.1;font-family: &quot;Courier New&quot;,Courier,monospace\">         ┌───────┐┌───────┐ ░                 ░ ┌───────────┐┌─┐\n",
       "qubit_0: ┤ Rx(π) ├┤ Rz(π) ├─░───■─────────────░─┤ U3(1,1,1) ├┤M├\n",
       "         └───────┘└───────┘ ░ ┌─┴─┐           ░ ├───────────┤└╥┘\n",
       "qubit_1: ───────────────────░─┤ X ├──■────────░─┤ U3(1,1,1) ├─╫─\n",
       "         ┌───────┐┌───────┐ ░ └───┘┌─┴─┐      ░ ├───────────┤ ║ \n",
       "qubit_2: ┤ Rx(π) ├┤ Rz(π) ├─░──────┤ X ├──■───░─┤ U3(1,1,1) ├─╫─\n",
       "         ├───────┤├───────┤ ░      └───┘┌─┴─┐ ░ ├───────────┤ ║ \n",
       "qubit_3: ┤ Rx(π) ├┤ Rz(π) ├─░───────────┤ X ├─░─┤ U3(1,1,1) ├─╫─\n",
       "         └───────┘└───────┘ ░           └───┘ ░ └───────────┘ ║ \n",
       "   cr: 1/═════════════════════════════════════════════════════╩═\n",
       "                                                              0 </pre>"
      ],
      "text/plain": [
       "         ┌───────┐┌───────┐ ░                 ░ ┌───────────┐┌─┐\n",
       "qubit_0: ┤ Rx(π) ├┤ Rz(π) ├─░───■─────────────░─┤ U3(1,1,1) ├┤M├\n",
       "         └───────┘└───────┘ ░ ┌─┴─┐           ░ ├───────────┤└╥┘\n",
       "qubit_1: ───────────────────░─┤ X ├──■────────░─┤ U3(1,1,1) ├─╫─\n",
       "         ┌───────┐┌───────┐ ░ └───┘┌─┴─┐      ░ ├───────────┤ ║ \n",
       "qubit_2: ┤ Rx(π) ├┤ Rz(π) ├─░──────┤ X ├──■───░─┤ U3(1,1,1) ├─╫─\n",
       "         ├───────┤├───────┤ ░      └───┘┌─┴─┐ ░ ├───────────┤ ║ \n",
       "qubit_3: ┤ Rx(π) ├┤ Rz(π) ├─░───────────┤ X ├─░─┤ U3(1,1,1) ├─╫─\n",
       "         └───────┘└───────┘ ░           └───┘ ░ └───────────┘ ║ \n",
       "   cr: 1/═════════════════════════════════════════════════════╩═\n",
       "                                                              0 "
      ]
     },
     "execution_count": 96,
     "metadata": {},
     "output_type": "execute_result"
    }
   ],
   "source": [
    "from qiskit import QuantumCircuit, QuantumRegister, ClassicalRegister, assemble, Aer\n",
    "from qiskit.visualization import plot_histogram\n",
    "from math import pi\n",
    "import numpy as np\n",
    "\n",
    "\n",
    "def circuitMaker(n_qubits, encodings, params, measurement, n_cbits=1):\n",
    "    # create quantum circuit\n",
    "    qr = QuantumRegister(n_qubits, 'qubit')\n",
    "    cr = ClassicalRegister(n_cbits, 'cr')\n",
    "    qc = QuantumCircuit()\n",
    "    qc.add_register(qr)\n",
    "    qc.add_register(cr)\n",
    "    \n",
    "    # encoding block\n",
    "    encoder0, encoder1 = encoder(encodings)\n",
    "    # print(encodings, encoder1)\n",
    "    # qc.rx(pi, encoder0)\n",
    "    # qc.rz(pi, encoder0)\n",
    "    if encoder1:\n",
    "        qc.rx(pi, encoder1)\n",
    "        qc.rz(pi, encoder1)\n",
    "        qc.barrier(qr)\n",
    "    \n",
    "    for i in range(n_qubits):\n",
    "        # entangle block\n",
    "        if i < n_qubits - 1:\n",
    "            qc.cnot(i, i+1)\n",
    "        else:\n",
    "            qc.barrier(qr)\n",
    "\n",
    "    for i in range(n_qubits):\n",
    "        # variational block\n",
    "        qc.u3(params[0+i], params[1+i], params[2+i], i)\n",
    "\n",
    "    # measurement\n",
    "    for i, j in enumerate(measurement):\n",
    "        qc.measure(qr[j], cr[i])\n",
    "    \n",
    "    return qc\n",
    "\n",
    "def encoder(encodings):\n",
    "    return [i for i, b in enumerate(encodings) if b == '0'], [i for i, b in enumerate(encodings) if b == '1']\n",
    "\n",
    "qc = circuitMaker(4, '1011', [1.0,1.0,1.0,1.0,1.0,1.0,1.0,1.0,1.0,1.0,1.0,1.0], [0])\n",
    "qc.draw()\n"
   ]
  },
  {
   "cell_type": "code",
   "execution_count": 97,
   "metadata": {},
   "outputs": [
    {
     "name": "stdout",
     "output_type": "stream",
     "text": [
      "[0.55, 0.52, 0.526, 0.55]\n"
     ]
    }
   ],
   "source": [
    "import numpy as np\n",
    "circuit_size = 4\n",
    "n_actions = 4\n",
    "parameters = [1,1,1,1,1,1,1,1,1,1,1,1]\n",
    "bias = [0,0,0,0]\n",
    "shots = 1000\n",
    "\n",
    "# def findAction(statistic):\n",
    "#     distribution = [0]*circuit_size\n",
    "#     for k, v in statistic.items():\n",
    "#         # attention: reserved statistic\n",
    "#         for i, c in enumerate(k[::-1]):\n",
    "#             if c == '1':\n",
    "#                 distribution[i] += v\n",
    "#     print(distribution)\n",
    "#     return distribution\n",
    "\n",
    "def getAction_single_measure(state, params):\n",
    "    b_state = f'{state:0{circuit_size}b}'\n",
    "    # tasks = [circuitMaker(circuit_size, b_state, parameters, [i]) for i in range(n_actions)]\n",
    "    aer_sim = Aer.get_backend('aer_simulator')\n",
    "    param_current, param_bias = params[:-n_actions], params[-n_actions:]\n",
    "    rlt = [aer_sim.run(assemble(circuitMaker(circuit_size, b_state, param_current, [i]), shots=shots)).result().get_counts() for i in range(n_actions)]\n",
    "    # qobj = assemble(qc, shots=shots)\n",
    "    # job = aer_sim.run(qobj)\n",
    "    # rlt = job.result().get_counts()\n",
    "    # print(rlt)\n",
    "    q_exps = [(i['0']-i['1'])/shots if len(i) > 1 else (-i['1']/shots if '1' in i.keys() else i['0']/shots) for i in rlt]\n",
    "\n",
    "    return [a + b for a, b in zip(q_exps, param_bias)]\n",
    "print(getAction_single_measure(0, np.concatenate((parameters, bias), axis=0)))"
   ]
  },
  {
   "cell_type": "code",
   "execution_count": 98,
   "metadata": {},
   "outputs": [],
   "source": [
    "# GLOBAL\n",
    "sampled_vs = []\n",
    "q_target = np.array([0.0,0.0,0.0,0.0])\n",
    "\n",
    "def cost(params):\n",
    "    global sampled_vs, q_target\n",
    "    v_targets = [(s[2] if s[4] else s[2] + GAMMA*np.max(q_target)) for s in sampled_vs]\n",
    "    v_predics = [getAction_single_measure(s[0], params)[s[1]] for s in sampled_vs]\n",
    "    cost = sum([(tar - pred)**2 for tar, pred in zip(v_targets, v_predics)])/MINIBATCH # MSE\n",
    "    # print('cost: ', cost)\n",
    "    return cost"
   ]
  },
  {
   "cell_type": "code",
   "execution_count": 111,
   "metadata": {},
   "outputs": [
    {
     "name": "stdout",
     "output_type": "stream",
     "text": [
      "init param current:  [ 0.00041793 -0.00514914  0.00381446  0.00574458 -0.00417114  0.01812999\n",
      " -0.0040242   0.0110605  -0.00718603  0.01342259  0.02998413 -0.00359647]\n",
      "init param bias:  [0. 0. 0. 0.]\n",
      "param target [ 0.00041793 -0.00514914  0.00381446  0.00574458 -0.00417114  0.01812999\n",
      " -0.0040242   0.0110605  -0.00718603  0.01342259  0.02998413 -0.00359647]\n"
     ]
    }
   ],
   "source": [
    "from qiskit.aqua.components.optimizers import ADAM\n",
    "LEARNING_RATE = 0.1\n",
    "opt = ADAM(maxiter=100,lr=LEARNING_RATE)\n",
    "\n",
    "param_current = 0.01 * np.random.normal(size=(circuit_size * 3))\n",
    "print('init param current: ', param_current)\n",
    "param_bias = np.array([0.0, 0.0, 0.0, 0.0])\n",
    "print('init param bias: ', param_bias)\n",
    "param_target = np.copy(param_current)\n",
    "print('param target', param_target)\n"
   ]
  },
  {
   "cell_type": "code",
   "execution_count": 87,
   "metadata": {},
   "outputs": [
    {
     "name": "stdout",
     "output_type": "stream",
     "text": [
      "para current before opt:  [-0.01658838  0.00806475  0.01502274  0.00330557 -0.01153581 -0.00154375\n",
      " -0.01450986 -0.00742094 -0.01148889 -0.00401333 -0.00456615  0.01274378]\n",
      "[-0.01658838  0.00806475  0.01502274  0.00330557 -0.01153581 -0.00154375\n",
      " -0.01450986 -0.00742094 -0.01148889 -0.00401333 -0.00456615  0.01274378\n",
      "  0.          0.          0.          0.        ]\n",
      "cost:  0.0\n",
      "cost:  0.0\n",
      "cost:  0.0\n",
      "cost:  0.0\n",
      "cost:  0.0\n",
      "cost:  0.0\n",
      "cost:  0.0\n",
      "cost:  0.0\n",
      "cost:  0.0\n",
      "cost:  0.0\n",
      "cost:  0.0\n",
      "cost:  0.0\n",
      "cost:  0.0\n",
      "cost:  0.0\n",
      "cost:  0.0\n",
      "cost:  0.0\n",
      "cost:  0.0\n",
      "cost:  0.0\n",
      "para current after opt:  []\n"
     ]
    },
    {
     "name": "stderr",
     "output_type": "stream",
     "text": [
      "C:\\Users\\sun\\AppData\\Local\\Temp/ipykernel_18476/2785814558.py:9: VisibleDeprecationWarning: Creating an ndarray from ragged nested sequences (which is a list-or-tuple of lists-or-tuples-or ndarrays with different lengths or shapes) is deprecated. If you meant to do this, you must specify 'dtype=object' when creating the ndarray.\n",
      "  param_current, param_bias = np.array(new_params[:-n_actions]), np.array(new_params[-n_actions:])\n"
     ]
    }
   ],
   "source": [
    "print('para current before opt: ', param_current)\n",
    "params = np.concatenate((param_current, param_bias))\n",
    "print(params)\n",
    "new_params = opt.optimize(num_vars=len(params), objective_function=cost, initial_point=params)[0]\n",
    "param_current, param_bias = np.array(new_params[:-n_actions]), np.array(new_params[-n_actions:])\n",
    "print('para current after opt: ', param_current)"
   ]
  },
  {
   "cell_type": "code",
   "execution_count": 112,
   "metadata": {},
   "outputs": [
    {
     "name": "stdout",
     "output_type": "stream",
     "text": [
      "\n",
      "\u001b[41mS\u001b[0mFFF\n",
      "FHFH\n",
      "FFFH\n",
      "HFFG\n",
      "Episode: 0, Steps: 0\n",
      "16\n",
      "Episode: 0, Steps: 1\n",
      "16\n",
      "Episode: 0, Steps: 2\n",
      "16\n",
      "Episode: 0, Steps: 3\n",
      "16\n",
      "Episode: 0, Steps: 4\n",
      "16\n",
      "Doing optimize\n",
      "start sample\n",
      "sample done\n",
      "para current before opt:  [ 0.00041793 -0.00514914  0.00381446  0.00574458 -0.00417114  0.01812999\n",
      " -0.0040242   0.0110605  -0.00718603  0.01342259  0.02998413 -0.00359647]\n",
      "start optimize\n",
      "optimize done\n",
      "para current after opt:  [ 4.17933518e-04 -5.14913511e-03  3.81445531e-03  5.74458360e-03\n",
      " -4.17113660e-03  1.81299869e-02 -4.02419781e-03  1.10604996e-02\n",
      " -7.18602794e-03  1.34225854e-02  2.99841341e-02  6.37044519e-01]\n",
      "optimize over\n",
      "parameter target:  [ 0.00041793 -0.00514914  0.00381446  0.00574458 -0.00417114  0.01812999\n",
      " -0.0040242   0.0110605  -0.00718603  0.01342259  0.02998413 -0.00359647] parameter bias:  [0.30068331 0.         0.         0.        ]\n"
     ]
    }
   ],
   "source": [
    "import gym\n",
    "import random\n",
    "import csv\n",
    "\n",
    "MAXEPISODE = 1\n",
    "MAXSTEPS = 5\n",
    "MINIBATCH = 5\n",
    "GAMMA = 0.9\n",
    "db = {}\n",
    "\n",
    "env = gym.make('FrozenLake-v1', map_name = '4x4')\n",
    "env.reset()\n",
    "env.render()\n",
    "\n",
    "counter_target = 0\n",
    "TARGET_EPI = 8\n",
    "\n",
    "\n",
    "for i in range(MAXEPISODE):\n",
    "    state = env.reset()\n",
    "    total_reward = 0\n",
    "    done = False\n",
    "    \n",
    "    for t in range(MAXSTEPS):\n",
    "        print(f'Episode: {i}, Steps: {t}')\n",
    "        # get action for next step from target network\n",
    "        params = np.concatenate((param_current, param_bias))\n",
    "        print(len(params))\n",
    "        q_target = getAction_single_measure(state, params)\n",
    "        action = np.argmax(q_target)\n",
    "        # new position, reward, condition and probabilities\n",
    "        new_state, reward, done, info = env.step(action=action)\n",
    "        # print(f'act: {action}, i:{type(i)}, new state:{new_state}, reward:{reward}, done:{done}, info:{info}')\n",
    "        # save data in database\n",
    "        db[i, t] = (state, action, reward, new_state, done)\n",
    "        # sample from database\n",
    "        if len(db) >= MINIBATCH:\n",
    "            print('Doing optimize')\n",
    "            # sampled_ks = random.sample(len(db), MINIBATCH)\n",
    "            print('start sample')\n",
    "            sampled_vs = [db[k] for k in random.sample(list(db), MINIBATCH)]\n",
    "            print('sample done')\n",
    "            # gradient-descent optimization\n",
    "            print('para current before opt: ', param_current)\n",
    "            print('start optimize')\n",
    "            new_params = opt.optimize(num_vars=len(params), objective_function=cost, initial_point=params)[0]\n",
    "            print('optimize done')\n",
    "            param_current, param_bias = np.array(new_params[:-n_actions]), np.array(new_params[-n_actions:])\n",
    "            print('para current after opt: ', param_current)\n",
    "            counter_target +=1\n",
    "            print('optimize over')\n",
    "        # update parameters in target circuit\n",
    "        if counter_target == TARGET_EPI:\n",
    "            param_target = np.copy(param_current)\n",
    "            counter_target = 0\n",
    "        \n",
    "        state = new_state\n",
    "\n",
    "        if done:\n",
    "            break\n",
    "\n",
    "print('parameter target: ', param_target, 'parameter bias: ', param_bias)\n",
    "\n",
    "# with open('target parameters', 'r', encoding='utf-8') as f:\n",
    "#     write = csv.writer(f) \n",
    "#     write.writerow(param_target) \n",
    "#     write.writerows(param_bias) \n",
    "\n"
   ]
  },
  {
   "cell_type": "code",
   "execution_count": 45,
   "metadata": {},
   "outputs": [
    {
     "name": "stdout",
     "output_type": "stream",
     "text": [
      "0100\n"
     ]
    },
    {
     "data": {
      "text/html": [
       "<pre style=\"word-wrap: normal;white-space: pre;background: #fff0;line-height: 1.1;font-family: &quot;Courier New&quot;,Courier,monospace\">         ┌───────┐┌───────┐ ░                 ░ ┌───────────┐┌─┐         \n",
       "qubit_0: ┤ Rx(π) ├┤ Rz(π) ├─░───■─────────────░─┤ U3(1,1,1) ├┤M├─────────\n",
       "         └───────┘└───────┘ ░ ┌─┴─┐           ░ ├───────────┤└╥┘┌─┐      \n",
       "qubit_1: ───────────────────░─┤ X ├──■────────░─┤ U3(1,1,1) ├─╫─┤M├──────\n",
       "         ┌───────┐┌───────┐ ░ └───┘┌─┴─┐      ░ ├───────────┤ ║ └╥┘┌─┐   \n",
       "qubit_2: ┤ Rx(π) ├┤ Rz(π) ├─░──────┤ X ├──■───░─┤ U3(1,1,1) ├─╫──╫─┤M├───\n",
       "         ├───────┤├───────┤ ░      └───┘┌─┴─┐ ░ ├───────────┤ ║  ║ └╥┘┌─┐\n",
       "qubit_3: ┤ Rx(π) ├┤ Rz(π) ├─░───────────┤ X ├─░─┤ U3(1,1,1) ├─╫──╫──╫─┤M├\n",
       "         └───────┘└───────┘ ░           └───┘ ░ └───────────┘ ║  ║  ║ └╥┘\n",
       "   cr: 4/═════════════════════════════════════════════════════╩══╩══╩══╩═\n",
       "                                                              0  1  2  3 </pre>"
      ],
      "text/plain": [
       "         ┌───────┐┌───────┐ ░                 ░ ┌───────────┐┌─┐         \n",
       "qubit_0: ┤ Rx(π) ├┤ Rz(π) ├─░───■─────────────░─┤ U3(1,1,1) ├┤M├─────────\n",
       "         └───────┘└───────┘ ░ ┌─┴─┐           ░ ├───────────┤└╥┘┌─┐      \n",
       "qubit_1: ───────────────────░─┤ X ├──■────────░─┤ U3(1,1,1) ├─╫─┤M├──────\n",
       "         ┌───────┐┌───────┐ ░ └───┘┌─┴─┐      ░ ├───────────┤ ║ └╥┘┌─┐   \n",
       "qubit_2: ┤ Rx(π) ├┤ Rz(π) ├─░──────┤ X ├──■───░─┤ U3(1,1,1) ├─╫──╫─┤M├───\n",
       "         ├───────┤├───────┤ ░      └───┘┌─┴─┐ ░ ├───────────┤ ║  ║ └╥┘┌─┐\n",
       "qubit_3: ┤ Rx(π) ├┤ Rz(π) ├─░───────────┤ X ├─░─┤ U3(1,1,1) ├─╫──╫──╫─┤M├\n",
       "         └───────┘└───────┘ ░           └───┘ ░ └───────────┘ ║  ║  ║ └╥┘\n",
       "   cr: 4/═════════════════════════════════════════════════════╩══╩══╩══╩═\n",
       "                                                              0  1  2  3 "
      ]
     },
     "execution_count": 45,
     "metadata": {},
     "output_type": "execute_result"
    }
   ],
   "source": [
    "parameters = [[1,1,1],[1,1,1],[1,1,1],[1,1,1]]\n",
    "circuit_size = 4\n",
    "b_state = '1011'\n",
    "\n",
    "qc = circuitMaker(circuit_size, circuit_size, b_state, parameters)\n",
    "qc.draw()"
   ]
  }
 ],
 "metadata": {
  "interpreter": {
   "hash": "8d86c190dfcadcdaa67edec4a1ea82702241987b5b1f320c920d3d4ca36fee5b"
  },
  "kernelspec": {
   "display_name": "Python 3.8.5 64-bit ('base': conda)",
   "language": "python",
   "name": "python3"
  },
  "language_info": {
   "codemirror_mode": {
    "name": "ipython",
    "version": 3
   },
   "file_extension": ".py",
   "mimetype": "text/x-python",
   "name": "python",
   "nbconvert_exporter": "python",
   "pygments_lexer": "ipython3",
   "version": "3.8.5"
  },
  "orig_nbformat": 4
 },
 "nbformat": 4,
 "nbformat_minor": 2
}
